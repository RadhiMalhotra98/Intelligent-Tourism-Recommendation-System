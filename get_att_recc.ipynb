{
 "cells": [
  {
   "cell_type": "code",
   "execution_count": 1,
   "metadata": {},
   "outputs": [
    {
     "name": "stderr",
     "output_type": "stream",
     "text": [
      "[nltk_data] Downloading package wordnet to\n",
      "[nltk_data]     /Users/amansingh/nltk_data...\n",
      "[nltk_data]   Package wordnet is already up-to-date!\n"
     ]
    },
    {
     "data": {
      "text/plain": [
       "True"
      ]
     },
     "execution_count": 1,
     "metadata": {},
     "output_type": "execute_result"
    }
   ],
   "source": [
    "import nltk\n",
    "nltk.download('wordnet')"
   ]
  },
  {
   "cell_type": "code",
   "execution_count": 2,
   "metadata": {},
   "outputs": [],
   "source": [
    "from attractions_recc import *\n",
    "from IPython.display import display\n",
    "import ipywidgets as w\n",
    "import pandas as pd\n",
    "import re"
   ]
  },
  {
   "cell_type": "code",
   "execution_count": 3,
   "metadata": {},
   "outputs": [],
   "source": [
    "att_df = pd.read_json('etl/attractions.json',orient='records')"
   ]
  },
  {
   "cell_type": "code",
   "execution_count": 4,
   "metadata": {},
   "outputs": [],
   "source": [
    "att_df = pd.read_json('/Users/amansingh/Desktop/Intelligent-Travel-Recommendation-System-master-1/etl/attractions.json',orient='records')"
   ]
  },
  {
   "cell_type": "code",
   "execution_count": 5,
   "metadata": {},
   "outputs": [
    {
     "data": {
      "text/html": [
       "<div>\n",
       "<style scoped>\n",
       "    .dataframe tbody tr th:only-of-type {\n",
       "        vertical-align: middle;\n",
       "    }\n",
       "\n",
       "    .dataframe tbody tr th {\n",
       "        vertical-align: top;\n",
       "    }\n",
       "\n",
       "    .dataframe thead th {\n",
       "        text-align: right;\n",
       "    }\n",
       "</style>\n",
       "<table border=\"1\" class=\"dataframe\">\n",
       "  <thead>\n",
       "    <tr style=\"text-align: right;\">\n",
       "      <th></th>\n",
       "      <th>province</th>\n",
       "      <th>category</th>\n",
       "      <th>attraction_id</th>\n",
       "      <th>city</th>\n",
       "      <th>country</th>\n",
       "      <th>name</th>\n",
       "      <th>price</th>\n",
       "      <th>rating</th>\n",
       "      <th>avg_price</th>\n",
       "      <th>latitude</th>\n",
       "      <th>longitude</th>\n",
       "    </tr>\n",
       "  </thead>\n",
       "  <tbody>\n",
       "    <tr>\n",
       "      <th>0</th>\n",
       "      <td>british_columbia</td>\n",
       "      <td>featured_tours_and_tickets</td>\n",
       "      <td>0</td>\n",
       "      <td>vancouver</td>\n",
       "      <td>canada</td>\n",
       "      <td>vancouver_city_sightseeing_tour</td>\n",
       "      <td>80.0</td>\n",
       "      <td>4.5</td>\n",
       "      <td>145.00</td>\n",
       "      <td>49.197834</td>\n",
       "      <td>-123.064995</td>\n",
       "    </tr>\n",
       "    <tr>\n",
       "      <th>1</th>\n",
       "      <td>british_columbia</td>\n",
       "      <td>featured_tours_and_tickets</td>\n",
       "      <td>1</td>\n",
       "      <td>vancouver</td>\n",
       "      <td>canada</td>\n",
       "      <td>vancouver_to_victoria_and_butchart_gardens_tou...</td>\n",
       "      <td>210.0</td>\n",
       "      <td>5.0</td>\n",
       "      <td>145.00</td>\n",
       "      <td>49.197834</td>\n",
       "      <td>-123.064995</td>\n",
       "    </tr>\n",
       "    <tr>\n",
       "      <th>2</th>\n",
       "      <td>quebec</td>\n",
       "      <td>featured_tours_and_tickets</td>\n",
       "      <td>2</td>\n",
       "      <td>montreal</td>\n",
       "      <td>canada</td>\n",
       "      <td>quebec_city_and_montmorency_falls_day_trip_fro...</td>\n",
       "      <td>115.0</td>\n",
       "      <td>4.5</td>\n",
       "      <td>115.00</td>\n",
       "      <td>45.500145</td>\n",
       "      <td>-73.572029</td>\n",
       "    </tr>\n",
       "    <tr>\n",
       "      <th>3</th>\n",
       "      <td>ontario</td>\n",
       "      <td>featured_tours_and_tickets</td>\n",
       "      <td>3</td>\n",
       "      <td>toronto</td>\n",
       "      <td>canada</td>\n",
       "      <td>niagara_falls_day_trip_from_toronto</td>\n",
       "      <td>169.0</td>\n",
       "      <td>5.0</td>\n",
       "      <td>212.21</td>\n",
       "      <td>43.656151</td>\n",
       "      <td>-79.384262</td>\n",
       "    </tr>\n",
       "    <tr>\n",
       "      <th>4</th>\n",
       "      <td>ontario</td>\n",
       "      <td>featured_tours_and_tickets</td>\n",
       "      <td>4</td>\n",
       "      <td>niagara_falls</td>\n",
       "      <td>canada</td>\n",
       "      <td>best_of_niagara_falls_tour_from_niagara_falls,...</td>\n",
       "      <td>158.0</td>\n",
       "      <td>5.0</td>\n",
       "      <td>212.21</td>\n",
       "      <td>43.085712</td>\n",
       "      <td>-79.082428</td>\n",
       "    </tr>\n",
       "  </tbody>\n",
       "</table>\n",
       "</div>"
      ],
      "text/plain": [
       "           province                    category  attraction_id           city  \\\n",
       "0  british_columbia  featured_tours_and_tickets              0      vancouver   \n",
       "1  british_columbia  featured_tours_and_tickets              1      vancouver   \n",
       "2            quebec  featured_tours_and_tickets              2       montreal   \n",
       "3           ontario  featured_tours_and_tickets              3        toronto   \n",
       "4           ontario  featured_tours_and_tickets              4  niagara_falls   \n",
       "\n",
       "  country                                               name  price  rating  \\\n",
       "0  canada                    vancouver_city_sightseeing_tour   80.0     4.5   \n",
       "1  canada  vancouver_to_victoria_and_butchart_gardens_tou...  210.0     5.0   \n",
       "2  canada  quebec_city_and_montmorency_falls_day_trip_fro...  115.0     4.5   \n",
       "3  canada                niagara_falls_day_trip_from_toronto  169.0     5.0   \n",
       "4  canada  best_of_niagara_falls_tour_from_niagara_falls,...  158.0     5.0   \n",
       "\n",
       "   avg_price   latitude   longitude  \n",
       "0     145.00  49.197834 -123.064995  \n",
       "1     145.00  49.197834 -123.064995  \n",
       "2     115.00  45.500145  -73.572029  \n",
       "3     212.21  43.656151  -79.384262  \n",
       "4     212.21  43.085712  -79.082428  "
      ]
     },
     "execution_count": 5,
     "metadata": {},
     "output_type": "execute_result"
    }
   ],
   "source": [
    "att_df.head()"
   ]
  },
  {
   "cell_type": "markdown",
   "metadata": {},
   "source": [
    "## User details and Preferences"
   ]
  },
  {
   "cell_type": "code",
   "execution_count": 6,
   "metadata": {
    "cell_style": "center"
   },
   "outputs": [
    {
     "data": {
      "application/vnd.jupyter.widget-view+json": {
       "model_id": "45b213949e204eb29acc05c67dd86322",
       "version_major": 2,
       "version_minor": 0
      },
      "text/plain": [
       "HBox(children=(VBox(children=(Text(value='', description='User Name'), Text(value='Province', description='Des…"
      ]
     },
     "metadata": {},
     "output_type": "display_data"
    }
   ],
   "source": [
    "uname = w.Text(description=\"User Name\")\n",
    "place = w.Text(value = 'Province',  description=\"Destination\")\n",
    "budget = w.IntRangeSlider(min=att_df.price.min(), max=att_df.price.max(),step=10,value=[att_df.price.min(),att_df.price.max()],description=\"Budget\")\n",
    "v1 = w.VBox([uname,place,budget])\n",
    "start = w.DatePicker(description='Start Date',disabled=False)\n",
    "end = w.DatePicker(description='End Date',disabled=False)\n",
    "v2 = w.VBox([start,end])\n",
    "out = w.HBox([v1,v2])\n",
    "display(out)"
   ]
  },
  {
   "cell_type": "code",
   "execution_count": 7,
   "metadata": {},
   "outputs": [
    {
     "name": "stdout",
     "output_type": "stream",
     "text": [
      "Select and rate atleast 5 categories and rate them:\n"
     ]
    },
    {
     "data": {
      "application/vnd.jupyter.widget-view+json": {
       "model_id": "e3ae69cd928f4f19b76318b2aff8b758",
       "version_major": 2,
       "version_minor": 0
      },
      "text/plain": [
       "HBox(children=(VBox(children=(Button(description='private_&_custom_tours', layout=Layout(height='100px', width…"
      ]
     },
     "metadata": {},
     "output_type": "display_data"
    },
    {
     "name": "stdout",
     "output_type": "stream",
     "text": [
      "private_&_custom_tours\n"
     ]
    },
    {
     "data": {
      "application/vnd.jupyter.widget-view+json": {
       "model_id": "80d66ddd9f5c4ef6b1aa60425ad75991",
       "version_major": 2,
       "version_minor": 0
      },
      "text/plain": [
       "IntSlider(value=0, description='Rate', max=5)"
      ]
     },
     "metadata": {},
     "output_type": "display_data"
    },
    {
     "name": "stdout",
     "output_type": "stream",
     "text": [
      "Rate 4 more!\n",
      "\n",
      "food,_wine_&_nightlife\n"
     ]
    },
    {
     "data": {
      "application/vnd.jupyter.widget-view+json": {
       "model_id": "945ba87c5455475fa418b17b440de6bd",
       "version_major": 2,
       "version_minor": 0
      },
      "text/plain": [
       "IntSlider(value=0, description='Rate', max=5)"
      ]
     },
     "metadata": {},
     "output_type": "display_data"
    },
    {
     "name": "stdout",
     "output_type": "stream",
     "text": [
      "Rate 3 more!\n",
      "\n",
      "day_trips_&_excursions\n"
     ]
    },
    {
     "data": {
      "application/vnd.jupyter.widget-view+json": {
       "model_id": "533561bfc1584e0cbcea3a4383a58800",
       "version_major": 2,
       "version_minor": 0
      },
      "text/plain": [
       "IntSlider(value=0, description='Rate', max=5)"
      ]
     },
     "metadata": {},
     "output_type": "display_data"
    },
    {
     "name": "stdout",
     "output_type": "stream",
     "text": [
      "Rate 2 more!\n",
      "\n",
      "luxury_&_special_occasions\n"
     ]
    },
    {
     "data": {
      "application/vnd.jupyter.widget-view+json": {
       "model_id": "dfdc9eb33cce40cfbe0d546145511847",
       "version_major": 2,
       "version_minor": 0
      },
      "text/plain": [
       "IntSlider(value=0, description='Rate', max=5)"
      ]
     },
     "metadata": {},
     "output_type": "display_data"
    },
    {
     "name": "stdout",
     "output_type": "stream",
     "text": [
      "Rate 1 more!\n",
      "\n",
      "air,_helicopter_&_balloon_tours\n"
     ]
    },
    {
     "data": {
      "application/vnd.jupyter.widget-view+json": {
       "model_id": "55d33ba363884903a107156e1cb9ad28",
       "version_major": 2,
       "version_minor": 0
      },
      "text/plain": [
       "IntSlider(value=0, description='Rate', max=5)"
      ]
     },
     "metadata": {},
     "output_type": "display_data"
    }
   ],
   "source": [
    "category_df = att_df.groupby('category').size().reset_index().sort_values([0],ascending=False)[:20]\n",
    "categories = list(category_df.category.values)\n",
    "cat_rat = dict()\n",
    "def on_button_clicked(b):\n",
    "    if b.description in cat_rat:\n",
    "        return\n",
    "    print(b.description)\n",
    "    slider = w.IntSlider(min=0,max=5,step=1,description='Rate')\n",
    "    display(slider)\n",
    "    cat_rat[b.description] = slider\n",
    "    if(len(cat_rat) < 5):\n",
    "        print(\"Rate {x} more!\\n\".format(x=5-len(cat_rat)))\n",
    "    \n",
    "but_layout = w.Layout(width='100%', height='100px')\n",
    "but_items = [w.Button(description=c, layout=but_layout) for c in categories]\n",
    "on_clk = [item.on_click(on_button_clicked) for item in but_items]\n",
    "c1 = w.VBox([i for i in but_items[:4]])\n",
    "c2 = w.VBox([i for i in but_items[4:8]])\n",
    "c3 = w.VBox([i for i in but_items[8:12]])\n",
    "c4 = w.VBox([i for i in but_items[12:16]])\n",
    "c5 = w.VBox([i for i in but_items[16:]])\n",
    "buttons = w.HBox([c1,c2,c3,c4,c5])\n",
    "print(\"Select and rate atleast 5 categories and rate them:\")\n",
    "display(buttons)"
   ]
  },
  {
   "cell_type": "code",
   "execution_count": 8,
   "metadata": {},
   "outputs": [],
   "source": [
    "user_name = re.sub(' ','_',uname.value.lower())\n",
    "province = re.sub(' ','_',place.value.lower())\n",
    "(low,high) = tuple([float(i) for i in budget.value])\n",
    "begin_date = start.value\n",
    "end_date = end.value\n",
    "cat_rating = dict()\n",
    "for key, value in cat_rat.items():\n",
    "    cat_rating[key] = float(value.value)"
   ]
  },
  {
   "cell_type": "markdown",
   "metadata": {},
   "source": [
    "## Model recommendation and filtering"
   ]
  },
  {
   "cell_type": "code",
   "execution_count": 9,
   "metadata": {},
   "outputs": [
    {
     "name": "stdout",
     "output_type": "stream",
     "text": [
      "WARNING:tensorflow:From /Users/amansingh/opt/anaconda3/lib/python3.8/site-packages/tensorflow/python/compat/v2_compat.py:96: disable_resource_variables (from tensorflow.python.ops.variable_scope) is deprecated and will be removed in a future version.\n",
      "Instructions for updating:\n",
      "non-resource variables are not supported in the long term\n"
     ]
    }
   ],
   "source": [
    "import tensorflow.compat.v1 as tf\n",
    "tf.disable_v2_behavior() "
   ]
  },
  {
   "cell_type": "code",
   "execution_count": 10,
   "metadata": {
    "scrolled": true
   },
   "outputs": [
    {
     "name": "stdout",
     "output_type": "stream",
     "text": [
      "Reading the data\n",
      "Extracting num_rows from ratings\n",
      "Preprocessing the dataset\n",
      "Similar User: 787\n",
      "Model restored\n"
     ]
    },
    {
     "data": {
      "text/html": [
       "<div>\n",
       "<style scoped>\n",
       "    .dataframe tbody tr th:only-of-type {\n",
       "        vertical-align: middle;\n",
       "    }\n",
       "\n",
       "    .dataframe tbody tr th {\n",
       "        vertical-align: top;\n",
       "    }\n",
       "\n",
       "    .dataframe thead th {\n",
       "        text-align: right;\n",
       "    }\n",
       "</style>\n",
       "<table border=\"1\" class=\"dataframe\">\n",
       "  <thead>\n",
       "    <tr style=\"text-align: right;\">\n",
       "      <th></th>\n",
       "      <th>attraction_id</th>\n",
       "      <th>Recommendation Score</th>\n",
       "    </tr>\n",
       "  </thead>\n",
       "  <tbody>\n",
       "    <tr>\n",
       "      <th>0</th>\n",
       "      <td>0</td>\n",
       "      <td>0.018642</td>\n",
       "    </tr>\n",
       "    <tr>\n",
       "      <th>1</th>\n",
       "      <td>1</td>\n",
       "      <td>0.003147</td>\n",
       "    </tr>\n",
       "    <tr>\n",
       "      <th>2</th>\n",
       "      <td>2</td>\n",
       "      <td>0.000258</td>\n",
       "    </tr>\n",
       "    <tr>\n",
       "      <th>3</th>\n",
       "      <td>3</td>\n",
       "      <td>0.000034</td>\n",
       "    </tr>\n",
       "    <tr>\n",
       "      <th>4</th>\n",
       "      <td>4</td>\n",
       "      <td>0.000369</td>\n",
       "    </tr>\n",
       "  </tbody>\n",
       "</table>\n",
       "</div>"
      ],
      "text/plain": [
       "   attraction_id  Recommendation Score\n",
       "0              0              0.018642\n",
       "1              1              0.003147\n",
       "2              2              0.000258\n",
       "3              3              0.000034\n",
       "4              4              0.000369"
      ]
     },
     "metadata": {},
     "output_type": "display_data"
    }
   ],
   "source": [
    "filename, user, rbm_att = get_recc(att_df, cat_rating)\n",
    "with_url = filter_df(filename, user, low, high, province, att_df)"
   ]
  },
  {
   "cell_type": "code",
   "execution_count": 11,
   "metadata": {},
   "outputs": [],
   "source": [
    "%%capture\n",
    "final = dict()\n",
    "final['timeofday'] = []\n",
    "final['image'] = []\n",
    "final['name'] = []\n",
    "final['location'] = []\n",
    "final['price'] = []\n",
    "final['rating'] = []\n",
    "final['category'] = []\n",
    "\n",
    "for i in range(1,(end_date - begin_date).days+2):\n",
    "    for j in range(2):\n",
    "        final['timeofday'].append('Morning')\n",
    "    for j in range(2):\n",
    "        final['timeofday'].append('Evening')\n",
    "\n",
    "for i in range(len(final['timeofday'])): \n",
    "    if i%4 == 0: \n",
    "        final = top_recc(with_url, final)\n",
    "    else:\n",
    "        final = find_closest(with_url, final['location'][-1],final['timeofday'][i], final)"
   ]
  },
  {
   "cell_type": "markdown",
   "metadata": {},
   "source": [
    "## Final Output"
   ]
  },
  {
   "cell_type": "code",
   "execution_count": 12,
   "metadata": {},
   "outputs": [
    {
     "name": "stdout",
     "output_type": "stream",
     "text": [
      "['downloads/niagara_falls_in_one_day:_deluxe_sightseeing_tour_of_american_and_canadian_sides/1. 6-hour-niagara-falls.jpg', 'downloads/niagara_falls_canadian_side_tour_and_maid_of_the_mist_boat_ride/1. niagara-falls-canadian.jpg', 'downloads/6-hour_niagara_falls_canadian_side_evening_illuminations_tour/1. 6-hour-niagara-falls.jpg', 'downloads/epic_toronto_night_tour/1. epic-toronto-night-tour.jpg', 'downloads/best_of_niagara_falls_tour_from_niagara_falls/1. best-of-niagara-falls-tour-from-niagara-falls-ontario-in-niagara-falls-190431.jpg', 'downloads/ultimate_toronto_tour/1. ultimate-toronto-tour.jpg', 'downloads/niagara_falls_night_tour_with_dinner_and_cruise/1. niagara-falls-night-tour-with-dinner-and-cruise-in-niagara-falls-218806.jpg', 'downloads/day_and_night_tour_of_niagara_falls/1. day-and-night-tour-of-niagara-falls-in-niagara-falls-193929.jpg', 'downloads/niagara_falls_helicopter_tour/1. niagara-falls-heliopter_0.jpg', 'downloads/bird_kingdom_all_day_admission_ticket/1. bird-kingdom-all-day.jpg', 'downloads/friday_night_wine_and_cheese_sail_in_toronto/1. friday-night-wine-and-cheese-sail-in-toronto-in-toronto-188863.jpg', 'downloads/toronto_islands_evening_bike_tour/1. toronto-islands-evening-bike-tour-in-toronto-179259.jpg']\n"
     ]
    }
   ],
   "source": [
    "print(final['image'])"
   ]
  },
  {
   "cell_type": "code",
   "execution_count": 13,
   "metadata": {},
   "outputs": [
    {
     "data": {
      "application/vnd.jupyter.widget-view+json": {
       "model_id": "772b37188d24463aa9f34645a1462e8e",
       "version_major": 2,
       "version_minor": 0
      },
      "text/plain": [
       "Tab(children=(VBox(children=(HBox(children=(VBox(children=(HTML(value=\"<b><font color='orange'>MORNING</b>\"), …"
      ]
     },
     "metadata": {},
     "output_type": "display_data"
    }
   ],
   "source": [
    "days = (end_date - begin_date).days + 1\n",
    "display(final_output(days,final))"
   ]
  },
  {
   "cell_type": "code",
   "execution_count": null,
   "metadata": {},
   "outputs": [],
   "source": []
  }
 ],
 "metadata": {
  "hide_input": false,
  "kernelspec": {
   "display_name": "Python 3",
   "language": "python",
   "name": "python3"
  },
  "language_info": {
   "codemirror_mode": {
    "name": "ipython",
    "version": 3
   },
   "file_extension": ".py",
   "mimetype": "text/x-python",
   "name": "python",
   "nbconvert_exporter": "python",
   "pygments_lexer": "ipython3",
   "version": "3.8.3"
  }
 },
 "nbformat": 4,
 "nbformat_minor": 2
}
