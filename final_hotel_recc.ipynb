{
 "cells": [
  {
   "cell_type": "code",
   "execution_count": 1,
   "metadata": {},
   "outputs": [],
   "source": [
    "import pandas as pd\n",
    "import ipywidgets as w\n",
    "from IPython.display import IFrame\n",
    "from IPython.display import display\n",
    "import pyspark\n",
    "from pyspark.sql import SQLContext, functions, types\n",
    "from pyspark.sql import Row\n",
    "import matplotlib.pyplot as plt\n",
    "from hotel_recc import *\n",
    "%matplotlib inline"
   ]
  },
  {
   "cell_type": "code",
   "execution_count": 2,
   "metadata": {},
   "outputs": [],
   "source": [
    "sc=pyspark.SparkContext(appName=\"hotel_recc\")\n",
    "spark = SQLContext(sc)"
   ]
  },
  {
   "cell_type": "markdown",
   "metadata": {},
   "source": [
    "## User details and Preferences"
   ]
  },
  {
   "cell_type": "code",
   "execution_count": 3,
   "metadata": {},
   "outputs": [
    {
     "data": {
      "application/vnd.jupyter.widget-view+json": {
       "model_id": "83201f70dfc44f6bbe7c1f60da209781",
       "version_major": 2,
       "version_minor": 0
      },
      "text/plain": [
       "HBox(children=(VBox(children=(Text(value='', description='User Name'), Text(value='', description='Destination…"
      ]
     },
     "metadata": {},
     "output_type": "display_data"
    }
   ],
   "source": [
    "## Ipywidgets to get user name and destination\n",
    "name = w.Text(description=\"User Name\")\n",
    "place = w.Text(description=\"Destination\")\n",
    "v1 = w.VBox([name,place])\n",
    "\n",
    "## Ipywidgets to get start and end date of the trip\n",
    "\n",
    "start = w.DatePicker(description='Start Date',disabled=False)\n",
    "end = w.DatePicker(description='End Date',disabled=False)\n",
    "v2 = w.VBox([start,end])\n",
    "\n",
    "out = w.HBox([v1,v2])\n",
    "display(out)"
   ]
  },
  {
   "cell_type": "code",
   "execution_count": 4,
   "metadata": {},
   "outputs": [],
   "source": [
    "## Reading file containing hotel details after removing duplicates\n",
    "del_dup = spark.read.json('etl/del_dup')\n",
    "\n",
    "## Reading file containing hotel details after removing duplicates and exploding amenities\n",
    "newh_df = spark.read.json('etl/newh_df')\n",
    "\n",
    "del_dup.createOrReplaceTempView('del_dup')\n",
    "newh_df.createOrReplaceTempView('newh_df')"
   ]
  },
  {
   "cell_type": "code",
   "execution_count": 5,
   "metadata": {},
   "outputs": [
    {
     "name": "stdout",
     "output_type": "stream",
     "text": [
      "Select atleast 5 amenities:\n"
     ]
    },
    {
     "data": {
      "application/vnd.jupyter.widget-view+json": {
       "model_id": "019ddd8628884b3494538b11ef60c5dc",
       "version_major": 2,
       "version_minor": 0
      },
      "text/plain": [
       "HBox(children=(VBox(children=(Button(description=' Nonsmoking hotel', layout=Layout(height='100px', width='100…"
      ]
     },
     "metadata": {},
     "output_type": "display_data"
    },
    {
     "name": "stdout",
     "output_type": "stream",
     "text": [
      " Nonsmoking hotel\n",
      "Select 4 more!\n",
      "\n",
      " Nonsmoking rooms\n",
      "Select 3 more!\n",
      "\n",
      " Free High Speed Internet WiFi\n",
      "Select 2 more!\n",
      "\n",
      " Air conditioning\n",
      "Select 1 more!\n",
      "\n",
      "Free parking\n"
     ]
    }
   ],
   "source": [
    "## Finding top 15 amentities to ask users to select inorder to provide hotel recommendations based on amenities chosen\n",
    "newh1_df  = spark.sql(\"SELECT amenities,COUNT(amenities) AS tot_count FROM newh_df GROUP BY amenities ORDER BY tot_count DESC\")\n",
    "top_amenities = [x[0] for x in newh1_df.head(16) if x[0] != '']\n",
    "\n",
    "## Getting user's amenity preferences\n",
    "amenities_pref = []\n",
    "def on_button_clicked(b):\n",
    "    if b.description in amenities_pref:\n",
    "        return\n",
    "    print(b.description)\n",
    "    amenities_pref.append(b.description)\n",
    "    if(len(amenities_pref) < 5):\n",
    "        print(\"Select {x} more!\\n\".format(x=5-len(amenities_pref)))\n",
    "        \n",
    "but_layout = w.Layout(width='100%', height='100px')\n",
    "but_items = [w.Button(description=c, layout=but_layout) for c in top_amenities]\n",
    "on_clk = [item.on_click(on_button_clicked) for item in but_items]\n",
    "r1 = w.VBox([i for i in but_items[:5]])\n",
    "r2 = w.VBox([i for i in but_items[5:10]])\n",
    "r3 = w.VBox([i for i in but_items[10:]])\n",
    "buttons = w.HBox([r1,r2,r3])\n",
    "print(\"Select atleast 5 amenities:\")\n",
    "display(buttons)"
   ]
  },
  {
   "cell_type": "markdown",
   "metadata": {},
   "source": [
    "## Model training and evaluation"
   ]
  },
  {
   "cell_type": "code",
   "execution_count": 7,
   "metadata": {},
   "outputs": [
    {
     "name": "stdout",
     "output_type": "stream",
     "text": [
      "best rank :  12\n",
      "best RMSE:3.0752617754623337\n"
     ]
    },
    {
     "data": {
      "text/plain": [
       "<BarContainer object of 3 artists>"
      ]
     },
     "execution_count": 7,
     "metadata": {},
     "output_type": "execute_result"
    },
    {
     "data": {
      "image/png": "[encoded data removed]",
      "text/plain": [
       "<Figure size 432x288 with 1 Axes>"
      ]
     },
     "metadata": {
      "needs_background": "light"
     },
     "output_type": "display_data"
    }
   ],
   "source": [
    "usr_rating = amenities_rating(spark, amenities_pref, newh_df)\n",
    "rank, error, errors, usrid_s2 = model_train(spark, usr_rating)\n",
    "print(\"best rank : \",rank)\n",
    "print(\"best RMSE:\" +str(error))\n",
    "plt.bar([4,8,12], height=errors)"
   ]
  },
  {
   "cell_type": "markdown",
   "metadata": {},
   "source": [
    "## Getting Recommendation"
   ]
  },
  {
   "cell_type": "code",
   "execution_count": 8,
   "metadata": {},
   "outputs": [
    {
     "name": "stdout",
     "output_type": "stream",
     "text": [
      "Requirement already satisfied: nest-asyncio in /Users/amansingh/opt/anaconda3/lib/python3.8/site-packages (1.5.1)\n",
      "Note: you may need to restart the kernel to use updated packages.\n"
     ]
    }
   ],
   "source": [
    "pip install nest-asyncio"
   ]
  },
  {
   "cell_type": "code",
   "execution_count": 9,
   "metadata": {},
   "outputs": [],
   "source": [
    "import nest_asyncio\n",
    "nest_asyncio.apply()"
   ]
  },
  {
   "cell_type": "code",
   "execution_count": 15,
   "metadata": {},
   "outputs": [],
   "source": [
    "u_tempdf = get_hotel_recc(spark, usrid_s2)\n",
    "hotel_df = del_dup.join(u_tempdf, \"id\").withColumn(\"address\",functions.lower(functions.col(\"address\")))\n",
    "user_location = place.value.lower()\n",
    "hotel_sugg = hotel_df.where(hotel_df.address.contains(user_location))\n",
    "recc = hotel_sugg.dropna().toPandas()"
   ]
  },
  {
   "cell_type": "code",
   "execution_count": 16,
   "metadata": {},
   "outputs": [],
   "source": [
    "%%capture\n",
    "final = dict()\n",
    "final['address'] = recc[:5]['address'].values.tolist()\n",
    "final['amenities'] = recc[:5]['amenities'].values.T.tolist()\n",
    "final['experience'] = recc[:5]['hotel_experience'].values.tolist()\n",
    "final['name'] = recc[:5]['hotel_name'].values.tolist()\n",
    "final['rating'] = recc[:5]['hotel_rating'].values.tolist()\n",
    "final['location'] = [i[1:-1] for i in recc[:5]['location'].values.tolist()]\n",
    "final['price'] = recc[:5]['price'].values.tolist()\n",
    "final['image'] = [get_image(i) for i in recc[:5]['hotel_name'].values.tolist()]"
   ]
  },
  {
   "cell_type": "code",
   "execution_count": 17,
   "metadata": {},
   "outputs": [
    {
     "name": "stdout",
     "output_type": "stream",
     "text": [
      "{'address': ['463 pine grove rd port loring ontario', '38 lakeport rd st. catharines ontario', '9318 542 hwy spring bay ontario', '1090 shamrock road ontario', '905 front rd kingston ontario'], 'amenities': [[\"['Free parking'\", \" 'Free High Speed Internet (WiFi)'\", \" 'Children Activities (Kid / Family Friendly)'\", \" 'Pets Allowed ( Dog / Pet Friendly )'\", \" 'Microwave'\", \" 'Refrigerator in room'\", \" 'Kitchenette'\", \" 'Non-smoking rooms']\"], [\"['Restaurant'\", \" 'Non-smoking hotel'\", \" 'Public Wifi'\", \" 'Air conditioning'\", \" 'Non-smoking rooms']\"], [\"['Free High Speed Internet (WiFi)'\", \" 'Breakfast included'\", \" 'Non-smoking hotel'\", \" 'Public Wifi'\", \" 'Refrigerator in room'\", \" 'Accessible rooms'\", \" 'Kitchenette'\", \" 'Non-smoking rooms']\"], [\"['Pool'\", \" 'Free parking'\", \" 'Restaurant'\", \" 'Free High Speed Internet (WiFi)'\", \" 'Bar/Lounge'\", \" 'Babysitting'\", \" 'Children Activities (Kid / Family Friendly)'\", \" 'Heated pool'\", \" 'Hot Tub'\", \" 'Indoor pool'\", \" 'Laundry Service'\", \" 'Meeting rooms'\", \" 'Non-smoking hotel'\", \" 'Tennis Court'\", \" 'Family Rooms'\", \" 'Non-smoking rooms']\"], [\"['Free High Speed Internet (WiFi)'\", \" 'Non-smoking hotel'\", \" 'Public Wifi'\", \" 'Air conditioning'\", \" 'Family Rooms'\", \" 'Non-smoking rooms']\"]], 'experience': ['Excellent', 'Very good', 'Excellent', 'Excellent', 'Excellent'], 'name': ['Pine Grove Resort', 'Harbourfront Inn', 'Quintina’s Clothier and Guest House', 'Shamrock Lodge', 'Waves & Winks B&B'], 'rating': ['4.5', '3.5', '5.0', '5.0', '5.0'], 'location': ['50.000678, -86.000977', '43.202697, -79.265495', '50.000678, -86.000977', '42.9226806, -81.2275131', '44.2173613, -76.5824676'], 'price': [280.0, 200.0, 240.0, 150.0, 170.0], 'image': ['downloads/Pine_Grove_Resort/1. pine-grove-resort.jpg', 'downloads/Harbourfront_Inn/1. the-harbourfront-inn.jpg', 'downloads/Quintina’s_Clothier_and_Guest_House/101102186.jpg', 'downloads/Shamrock_Lodge/1. shamrock-lodge-june-27.jpg', 'downloads/Waves_&_Winks_B&B/1. waves-winks-b-b.jpg']}\n"
     ]
    }
   ],
   "source": [
    "print(final)"
   ]
  },
  {
   "cell_type": "markdown",
   "metadata": {},
   "source": [
    "## Final Output"
   ]
  },
  {
   "cell_type": "code",
   "execution_count": 18,
   "metadata": {
    "scrolled": true
   },
   "outputs": [
    {
     "name": "stdout",
     "output_type": "stream",
     "text": [
      "Enabling notebook extension jupyter-js-widgets/extension...\r\n",
      "      - Validating: \u001b[32mOK\u001b[0m\r\n"
     ]
    }
   ],
   "source": [
    "!jupyter nbextension enable --user --py widgetsnbextension"
   ]
  },
  {
   "cell_type": "code",
   "execution_count": 19,
   "metadata": {},
   "outputs": [
    {
     "data": {
      "application/vnd.jupyter.widget-view+json": {
       "model_id": "ac00c19bcd3244ddbe964908f10d6def",
       "version_major": 2,
       "version_minor": 0
      },
      "text/plain": [
       "Tab(children=(VBox(children=(Image(value=b'\\xff\\xd8\\xff\\xe0\\x00\\x10JFIF\\x00\\x01\\x02\\x00\\x00\\x01\\x00\\x01\\x00\\x0…"
      ]
     },
     "metadata": {},
     "output_type": "display_data"
    }
   ],
   "source": [
    "days = (end.value - start.value).days\n",
    "tab_recc = get_hotel_output(days, final)\n",
    "display(tab_recc)"
   ]
  },
  {
   "cell_type": "code",
   "execution_count": null,
   "metadata": {},
   "outputs": [],
   "source": []
  }
 ],
 "metadata": {
  "kernelspec": {
   "display_name": "Python 3",
   "language": "python",
   "name": "python3"
  },
  "language_info": {
   "codemirror_mode": {
    "name": "ipython",
    "version": 3
   },
   "file_extension": ".py",
   "mimetype": "text/x-python",
   "name": "python",
   "nbconvert_exporter": "python",
   "pygments_lexer": "ipython3",
   "version": "3.8.3"
  }
 },
 "nbformat": 4,
 "nbformat_minor": 2
}
